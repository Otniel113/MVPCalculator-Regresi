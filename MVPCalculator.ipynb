{
  "nbformat": 4,
  "nbformat_minor": 0,
  "metadata": {
    "colab": {
      "provenance": []
    },
    "kernelspec": {
      "name": "python3",
      "display_name": "Python 3"
    },
    "language_info": {
      "name": "python"
    }
  },
  "cells": [
    {
      "cell_type": "markdown",
      "source": [
        "# Run All"
      ],
      "metadata": {
        "id": "05jxfKzQdKpw"
      }
    },
    {
      "cell_type": "markdown",
      "source": [
        "## Import and Load"
      ],
      "metadata": {
        "id": "6R6AHWemdMj9"
      }
    },
    {
      "cell_type": "markdown",
      "source": [
        "Import library yang diperlukan"
      ],
      "metadata": {
        "id": "jonNL3sOd0SM"
      }
    },
    {
      "cell_type": "code",
      "execution_count": 1,
      "metadata": {
        "id": "cPo6XSfYKNnj"
      },
      "outputs": [],
      "source": [
        "import pandas as pd\n",
        "import numpy as np\n",
        "\n",
        "import matplotlib as mpl\n",
        "import matplotlib.pyplot as plt\n",
        "from matplotlib import rcParams\n",
        "%matplotlib inline\n",
        "from sklearn.model_selection import train_test_split\n",
        "from sklearn.linear_model import LinearRegression\n",
        "from sklearn.metrics import r2_score, mean_squared_error, mean_absolute_error\n",
        "\n",
        "import seaborn as sns"
      ]
    },
    {
      "cell_type": "markdown",
      "source": [
        "Mengatur style"
      ],
      "metadata": {
        "id": "hWgGpu3voe0l"
      }
    },
    {
      "cell_type": "code",
      "source": [
        "rcParams['figure.figsize'] = 15, 8\n",
        "mpl.style.use(['ggplot'])"
      ],
      "metadata": {
        "id": "sQwvmQjqoZ-e"
      },
      "execution_count": 2,
      "outputs": []
    },
    {
      "cell_type": "markdown",
      "source": [
        "Load dataset"
      ],
      "metadata": {
        "id": "MMZAmJocd2rO"
      }
    },
    {
      "cell_type": "code",
      "source": [
        "df_match = pd.read_excel('https://drive.google.com/uc?id=1Q3LRfFwMWOKpO69shh3gXtRylKkTmD2s')"
      ],
      "metadata": {
        "id": "pp1mjc6KLJOq"
      },
      "execution_count": 3,
      "outputs": []
    },
    {
      "cell_type": "markdown",
      "source": [
        "Melihat data teratas"
      ],
      "metadata": {
        "id": "rC-tU5mWd4DU"
      }
    },
    {
      "cell_type": "code",
      "source": [
        "df_match.head()"
      ],
      "metadata": {
        "colab": {
          "base_uri": "https://localhost:8080/",
          "height": 206
        },
        "id": "-TTF_LY9LUiG",
        "outputId": "efee6365-97e8-493e-fc57-04b1645cb4ad"
      },
      "execution_count": 4,
      "outputs": [
        {
          "output_type": "execute_result",
          "data": {
            "text/plain": [
              "   kill  death  assist    gold  minutes   gpm  hero_damage  turret_damage  \\\n",
              "0   6.0    1.0     7.0  5958.0      8.0   745         26.0            8.0   \n",
              "1   6.0    3.0     7.0  7801.0      8.0   975         19.0           47.0   \n",
              "2   3.0    1.0    10.0  4912.0      8.0   614          7.0            2.0   \n",
              "3   7.0    1.0     6.0  6392.0      8.0   799         20.0           12.0   \n",
              "4   9.0    1.0     3.0  8634.0      8.0  1079         28.0           30.0   \n",
              "\n",
              "   damage_taken  teamfight_part  win  score  \n",
              "0          25.0            42.0  1.0    8.9  \n",
              "1          21.0            42.0  1.0    8.5  \n",
              "2          28.0            42.0  1.0    8.4  \n",
              "3          15.0            42.0  1.0    8.6  \n",
              "4          11.0            39.0  1.0    9.3  "
            ],
            "text/html": [
              "\n",
              "  <div id=\"df-0930baf1-5762-4196-96c9-5fafed54fdb7\">\n",
              "    <div class=\"colab-df-container\">\n",
              "      <div>\n",
              "<style scoped>\n",
              "    .dataframe tbody tr th:only-of-type {\n",
              "        vertical-align: middle;\n",
              "    }\n",
              "\n",
              "    .dataframe tbody tr th {\n",
              "        vertical-align: top;\n",
              "    }\n",
              "\n",
              "    .dataframe thead th {\n",
              "        text-align: right;\n",
              "    }\n",
              "</style>\n",
              "<table border=\"1\" class=\"dataframe\">\n",
              "  <thead>\n",
              "    <tr style=\"text-align: right;\">\n",
              "      <th></th>\n",
              "      <th>kill</th>\n",
              "      <th>death</th>\n",
              "      <th>assist</th>\n",
              "      <th>gold</th>\n",
              "      <th>minutes</th>\n",
              "      <th>gpm</th>\n",
              "      <th>hero_damage</th>\n",
              "      <th>turret_damage</th>\n",
              "      <th>damage_taken</th>\n",
              "      <th>teamfight_part</th>\n",
              "      <th>win</th>\n",
              "      <th>score</th>\n",
              "    </tr>\n",
              "  </thead>\n",
              "  <tbody>\n",
              "    <tr>\n",
              "      <th>0</th>\n",
              "      <td>6.0</td>\n",
              "      <td>1.0</td>\n",
              "      <td>7.0</td>\n",
              "      <td>5958.0</td>\n",
              "      <td>8.0</td>\n",
              "      <td>745</td>\n",
              "      <td>26.0</td>\n",
              "      <td>8.0</td>\n",
              "      <td>25.0</td>\n",
              "      <td>42.0</td>\n",
              "      <td>1.0</td>\n",
              "      <td>8.9</td>\n",
              "    </tr>\n",
              "    <tr>\n",
              "      <th>1</th>\n",
              "      <td>6.0</td>\n",
              "      <td>3.0</td>\n",
              "      <td>7.0</td>\n",
              "      <td>7801.0</td>\n",
              "      <td>8.0</td>\n",
              "      <td>975</td>\n",
              "      <td>19.0</td>\n",
              "      <td>47.0</td>\n",
              "      <td>21.0</td>\n",
              "      <td>42.0</td>\n",
              "      <td>1.0</td>\n",
              "      <td>8.5</td>\n",
              "    </tr>\n",
              "    <tr>\n",
              "      <th>2</th>\n",
              "      <td>3.0</td>\n",
              "      <td>1.0</td>\n",
              "      <td>10.0</td>\n",
              "      <td>4912.0</td>\n",
              "      <td>8.0</td>\n",
              "      <td>614</td>\n",
              "      <td>7.0</td>\n",
              "      <td>2.0</td>\n",
              "      <td>28.0</td>\n",
              "      <td>42.0</td>\n",
              "      <td>1.0</td>\n",
              "      <td>8.4</td>\n",
              "    </tr>\n",
              "    <tr>\n",
              "      <th>3</th>\n",
              "      <td>7.0</td>\n",
              "      <td>1.0</td>\n",
              "      <td>6.0</td>\n",
              "      <td>6392.0</td>\n",
              "      <td>8.0</td>\n",
              "      <td>799</td>\n",
              "      <td>20.0</td>\n",
              "      <td>12.0</td>\n",
              "      <td>15.0</td>\n",
              "      <td>42.0</td>\n",
              "      <td>1.0</td>\n",
              "      <td>8.6</td>\n",
              "    </tr>\n",
              "    <tr>\n",
              "      <th>4</th>\n",
              "      <td>9.0</td>\n",
              "      <td>1.0</td>\n",
              "      <td>3.0</td>\n",
              "      <td>8634.0</td>\n",
              "      <td>8.0</td>\n",
              "      <td>1079</td>\n",
              "      <td>28.0</td>\n",
              "      <td>30.0</td>\n",
              "      <td>11.0</td>\n",
              "      <td>39.0</td>\n",
              "      <td>1.0</td>\n",
              "      <td>9.3</td>\n",
              "    </tr>\n",
              "  </tbody>\n",
              "</table>\n",
              "</div>\n",
              "      <button class=\"colab-df-convert\" onclick=\"convertToInteractive('df-0930baf1-5762-4196-96c9-5fafed54fdb7')\"\n",
              "              title=\"Convert this dataframe to an interactive table.\"\n",
              "              style=\"display:none;\">\n",
              "        \n",
              "  <svg xmlns=\"http://www.w3.org/2000/svg\" height=\"24px\"viewBox=\"0 0 24 24\"\n",
              "       width=\"24px\">\n",
              "    <path d=\"M0 0h24v24H0V0z\" fill=\"none\"/>\n",
              "    <path d=\"M18.56 5.44l.94 2.06.94-2.06 2.06-.94-2.06-.94-.94-2.06-.94 2.06-2.06.94zm-11 1L8.5 8.5l.94-2.06 2.06-.94-2.06-.94L8.5 2.5l-.94 2.06-2.06.94zm10 10l.94 2.06.94-2.06 2.06-.94-2.06-.94-.94-2.06-.94 2.06-2.06.94z\"/><path d=\"M17.41 7.96l-1.37-1.37c-.4-.4-.92-.59-1.43-.59-.52 0-1.04.2-1.43.59L10.3 9.45l-7.72 7.72c-.78.78-.78 2.05 0 2.83L4 21.41c.39.39.9.59 1.41.59.51 0 1.02-.2 1.41-.59l7.78-7.78 2.81-2.81c.8-.78.8-2.07 0-2.86zM5.41 20L4 18.59l7.72-7.72 1.47 1.35L5.41 20z\"/>\n",
              "  </svg>\n",
              "      </button>\n",
              "      \n",
              "  <style>\n",
              "    .colab-df-container {\n",
              "      display:flex;\n",
              "      flex-wrap:wrap;\n",
              "      gap: 12px;\n",
              "    }\n",
              "\n",
              "    .colab-df-convert {\n",
              "      background-color: #E8F0FE;\n",
              "      border: none;\n",
              "      border-radius: 50%;\n",
              "      cursor: pointer;\n",
              "      display: none;\n",
              "      fill: #1967D2;\n",
              "      height: 32px;\n",
              "      padding: 0 0 0 0;\n",
              "      width: 32px;\n",
              "    }\n",
              "\n",
              "    .colab-df-convert:hover {\n",
              "      background-color: #E2EBFA;\n",
              "      box-shadow: 0px 1px 2px rgba(60, 64, 67, 0.3), 0px 1px 3px 1px rgba(60, 64, 67, 0.15);\n",
              "      fill: #174EA6;\n",
              "    }\n",
              "\n",
              "    [theme=dark] .colab-df-convert {\n",
              "      background-color: #3B4455;\n",
              "      fill: #D2E3FC;\n",
              "    }\n",
              "\n",
              "    [theme=dark] .colab-df-convert:hover {\n",
              "      background-color: #434B5C;\n",
              "      box-shadow: 0px 1px 3px 1px rgba(0, 0, 0, 0.15);\n",
              "      filter: drop-shadow(0px 1px 2px rgba(0, 0, 0, 0.3));\n",
              "      fill: #FFFFFF;\n",
              "    }\n",
              "  </style>\n",
              "\n",
              "      <script>\n",
              "        const buttonEl =\n",
              "          document.querySelector('#df-0930baf1-5762-4196-96c9-5fafed54fdb7 button.colab-df-convert');\n",
              "        buttonEl.style.display =\n",
              "          google.colab.kernel.accessAllowed ? 'block' : 'none';\n",
              "\n",
              "        async function convertToInteractive(key) {\n",
              "          const element = document.querySelector('#df-0930baf1-5762-4196-96c9-5fafed54fdb7');\n",
              "          const dataTable =\n",
              "            await google.colab.kernel.invokeFunction('convertToInteractive',\n",
              "                                                     [key], {});\n",
              "          if (!dataTable) return;\n",
              "\n",
              "          const docLinkHtml = 'Like what you see? Visit the ' +\n",
              "            '<a target=\"_blank\" href=https://colab.research.google.com/notebooks/data_table.ipynb>data table notebook</a>'\n",
              "            + ' to learn more about interactive tables.';\n",
              "          element.innerHTML = '';\n",
              "          dataTable['output_type'] = 'display_data';\n",
              "          await google.colab.output.renderOutput(dataTable, element);\n",
              "          const docLink = document.createElement('div');\n",
              "          docLink.innerHTML = docLinkHtml;\n",
              "          element.appendChild(docLink);\n",
              "        }\n",
              "      </script>\n",
              "    </div>\n",
              "  </div>\n",
              "  "
            ]
          },
          "metadata": {},
          "execution_count": 4
        }
      ]
    },
    {
      "cell_type": "markdown",
      "source": [
        "## Data Exploration"
      ],
      "metadata": {
        "id": "urdDyHkkdRjB"
      }
    },
    {
      "cell_type": "markdown",
      "source": [
        "Melihat informasi dataset"
      ],
      "metadata": {
        "id": "BoUiedjGd6FB"
      }
    },
    {
      "cell_type": "code",
      "source": [
        "df_match.info()"
      ],
      "metadata": {
        "colab": {
          "base_uri": "https://localhost:8080/"
        },
        "id": "A7YnplgpDj8d",
        "outputId": "12c907f0-f446-4099-b7a0-20dbe72ab569"
      },
      "execution_count": 5,
      "outputs": [
        {
          "output_type": "stream",
          "name": "stdout",
          "text": [
            "<class 'pandas.core.frame.DataFrame'>\n",
            "RangeIndex: 404 entries, 0 to 403\n",
            "Data columns (total 12 columns):\n",
            " #   Column          Non-Null Count  Dtype  \n",
            "---  ------          --------------  -----  \n",
            " 0   kill            404 non-null    float64\n",
            " 1   death           404 non-null    float64\n",
            " 2   assist          404 non-null    float64\n",
            " 3   gold            404 non-null    float64\n",
            " 4   minutes         404 non-null    float64\n",
            " 5   gpm             404 non-null    int64  \n",
            " 6   hero_damage     404 non-null    float64\n",
            " 7   turret_damage   404 non-null    float64\n",
            " 8   damage_taken    404 non-null    float64\n",
            " 9   teamfight_part  404 non-null    float64\n",
            " 10  win             404 non-null    float64\n",
            " 11  score           404 non-null    float64\n",
            "dtypes: float64(11), int64(1)\n",
            "memory usage: 38.0 KB\n"
          ]
        }
      ]
    },
    {
      "cell_type": "markdown",
      "source": [
        "Ukuran dataset"
      ],
      "metadata": {
        "id": "fcHIZ1Sbd8HX"
      }
    },
    {
      "cell_type": "code",
      "source": [
        "df_match.shape"
      ],
      "metadata": {
        "colab": {
          "base_uri": "https://localhost:8080/"
        },
        "id": "Cebj0XCWDl_B",
        "outputId": "01f00520-0c1c-4722-8e41-396b4bbdd6a6"
      },
      "execution_count": 6,
      "outputs": [
        {
          "output_type": "execute_result",
          "data": {
            "text/plain": [
              "(404, 12)"
            ]
          },
          "metadata": {},
          "execution_count": 6
        }
      ]
    },
    {
      "cell_type": "markdown",
      "source": [
        "Deskripsi statistik"
      ],
      "metadata": {
        "id": "GATBhFrYd-fS"
      }
    },
    {
      "cell_type": "code",
      "source": [
        "np.around(df_match.describe(), decimals=3)"
      ],
      "metadata": {
        "colab": {
          "base_uri": "https://localhost:8080/",
          "height": 300
        },
        "id": "kCToUoC4uPaW",
        "outputId": "87405a9b-d401-4cd7-9df6-4b71d11b59ef"
      },
      "execution_count": 7,
      "outputs": [
        {
          "output_type": "execute_result",
          "data": {
            "text/plain": [
              "          kill    death   assist       gold  minutes       gpm  hero_damage  \\\n",
              "count  404.000  404.000  404.000    404.000  404.000   404.000      404.000   \n",
              "mean     5.376    5.361    8.062  11171.745   16.931   662.495       20.020   \n",
              "std      3.836    2.911    5.107   3390.894    4.671   108.800        7.428   \n",
              "min      0.000    0.000    0.000   3940.000    8.000   465.000        6.000   \n",
              "25%      2.000    3.000    4.000   8594.500   13.000   582.750       14.000   \n",
              "50%      4.000    5.000    7.000  10852.500   16.000   651.000       20.000   \n",
              "75%      8.000    7.000   10.000  13200.750   20.000   723.250       25.000   \n",
              "max     20.000   15.000   32.000  21920.000   27.000  1079.000       40.000   \n",
              "\n",
              "       turret_damage  damage_taken  teamfight_part      win    score  \n",
              "count        404.000       404.000         404.000  404.000  404.000  \n",
              "mean          19.550        20.025          51.094    0.505    7.182  \n",
              "std           22.504         8.257          16.229    0.501    2.190  \n",
              "min            0.000         5.000           0.000    0.000    3.000  \n",
              "25%            1.000        13.000          39.000    0.000    5.400  \n",
              "50%           11.000        18.000          50.000    1.000    7.200  \n",
              "75%           32.000        26.000          63.250    1.000    8.700  \n",
              "max          100.000        49.000         100.000    1.000   12.800  "
            ],
            "text/html": [
              "\n",
              "  <div id=\"df-1c3adc0e-9c8b-4c06-8c2f-ff35b1559bd9\">\n",
              "    <div class=\"colab-df-container\">\n",
              "      <div>\n",
              "<style scoped>\n",
              "    .dataframe tbody tr th:only-of-type {\n",
              "        vertical-align: middle;\n",
              "    }\n",
              "\n",
              "    .dataframe tbody tr th {\n",
              "        vertical-align: top;\n",
              "    }\n",
              "\n",
              "    .dataframe thead th {\n",
              "        text-align: right;\n",
              "    }\n",
              "</style>\n",
              "<table border=\"1\" class=\"dataframe\">\n",
              "  <thead>\n",
              "    <tr style=\"text-align: right;\">\n",
              "      <th></th>\n",
              "      <th>kill</th>\n",
              "      <th>death</th>\n",
              "      <th>assist</th>\n",
              "      <th>gold</th>\n",
              "      <th>minutes</th>\n",
              "      <th>gpm</th>\n",
              "      <th>hero_damage</th>\n",
              "      <th>turret_damage</th>\n",
              "      <th>damage_taken</th>\n",
              "      <th>teamfight_part</th>\n",
              "      <th>win</th>\n",
              "      <th>score</th>\n",
              "    </tr>\n",
              "  </thead>\n",
              "  <tbody>\n",
              "    <tr>\n",
              "      <th>count</th>\n",
              "      <td>404.000</td>\n",
              "      <td>404.000</td>\n",
              "      <td>404.000</td>\n",
              "      <td>404.000</td>\n",
              "      <td>404.000</td>\n",
              "      <td>404.000</td>\n",
              "      <td>404.000</td>\n",
              "      <td>404.000</td>\n",
              "      <td>404.000</td>\n",
              "      <td>404.000</td>\n",
              "      <td>404.000</td>\n",
              "      <td>404.000</td>\n",
              "    </tr>\n",
              "    <tr>\n",
              "      <th>mean</th>\n",
              "      <td>5.376</td>\n",
              "      <td>5.361</td>\n",
              "      <td>8.062</td>\n",
              "      <td>11171.745</td>\n",
              "      <td>16.931</td>\n",
              "      <td>662.495</td>\n",
              "      <td>20.020</td>\n",
              "      <td>19.550</td>\n",
              "      <td>20.025</td>\n",
              "      <td>51.094</td>\n",
              "      <td>0.505</td>\n",
              "      <td>7.182</td>\n",
              "    </tr>\n",
              "    <tr>\n",
              "      <th>std</th>\n",
              "      <td>3.836</td>\n",
              "      <td>2.911</td>\n",
              "      <td>5.107</td>\n",
              "      <td>3390.894</td>\n",
              "      <td>4.671</td>\n",
              "      <td>108.800</td>\n",
              "      <td>7.428</td>\n",
              "      <td>22.504</td>\n",
              "      <td>8.257</td>\n",
              "      <td>16.229</td>\n",
              "      <td>0.501</td>\n",
              "      <td>2.190</td>\n",
              "    </tr>\n",
              "    <tr>\n",
              "      <th>min</th>\n",
              "      <td>0.000</td>\n",
              "      <td>0.000</td>\n",
              "      <td>0.000</td>\n",
              "      <td>3940.000</td>\n",
              "      <td>8.000</td>\n",
              "      <td>465.000</td>\n",
              "      <td>6.000</td>\n",
              "      <td>0.000</td>\n",
              "      <td>5.000</td>\n",
              "      <td>0.000</td>\n",
              "      <td>0.000</td>\n",
              "      <td>3.000</td>\n",
              "    </tr>\n",
              "    <tr>\n",
              "      <th>25%</th>\n",
              "      <td>2.000</td>\n",
              "      <td>3.000</td>\n",
              "      <td>4.000</td>\n",
              "      <td>8594.500</td>\n",
              "      <td>13.000</td>\n",
              "      <td>582.750</td>\n",
              "      <td>14.000</td>\n",
              "      <td>1.000</td>\n",
              "      <td>13.000</td>\n",
              "      <td>39.000</td>\n",
              "      <td>0.000</td>\n",
              "      <td>5.400</td>\n",
              "    </tr>\n",
              "    <tr>\n",
              "      <th>50%</th>\n",
              "      <td>4.000</td>\n",
              "      <td>5.000</td>\n",
              "      <td>7.000</td>\n",
              "      <td>10852.500</td>\n",
              "      <td>16.000</td>\n",
              "      <td>651.000</td>\n",
              "      <td>20.000</td>\n",
              "      <td>11.000</td>\n",
              "      <td>18.000</td>\n",
              "      <td>50.000</td>\n",
              "      <td>1.000</td>\n",
              "      <td>7.200</td>\n",
              "    </tr>\n",
              "    <tr>\n",
              "      <th>75%</th>\n",
              "      <td>8.000</td>\n",
              "      <td>7.000</td>\n",
              "      <td>10.000</td>\n",
              "      <td>13200.750</td>\n",
              "      <td>20.000</td>\n",
              "      <td>723.250</td>\n",
              "      <td>25.000</td>\n",
              "      <td>32.000</td>\n",
              "      <td>26.000</td>\n",
              "      <td>63.250</td>\n",
              "      <td>1.000</td>\n",
              "      <td>8.700</td>\n",
              "    </tr>\n",
              "    <tr>\n",
              "      <th>max</th>\n",
              "      <td>20.000</td>\n",
              "      <td>15.000</td>\n",
              "      <td>32.000</td>\n",
              "      <td>21920.000</td>\n",
              "      <td>27.000</td>\n",
              "      <td>1079.000</td>\n",
              "      <td>40.000</td>\n",
              "      <td>100.000</td>\n",
              "      <td>49.000</td>\n",
              "      <td>100.000</td>\n",
              "      <td>1.000</td>\n",
              "      <td>12.800</td>\n",
              "    </tr>\n",
              "  </tbody>\n",
              "</table>\n",
              "</div>\n",
              "      <button class=\"colab-df-convert\" onclick=\"convertToInteractive('df-1c3adc0e-9c8b-4c06-8c2f-ff35b1559bd9')\"\n",
              "              title=\"Convert this dataframe to an interactive table.\"\n",
              "              style=\"display:none;\">\n",
              "        \n",
              "  <svg xmlns=\"http://www.w3.org/2000/svg\" height=\"24px\"viewBox=\"0 0 24 24\"\n",
              "       width=\"24px\">\n",
              "    <path d=\"M0 0h24v24H0V0z\" fill=\"none\"/>\n",
              "    <path d=\"M18.56 5.44l.94 2.06.94-2.06 2.06-.94-2.06-.94-.94-2.06-.94 2.06-2.06.94zm-11 1L8.5 8.5l.94-2.06 2.06-.94-2.06-.94L8.5 2.5l-.94 2.06-2.06.94zm10 10l.94 2.06.94-2.06 2.06-.94-2.06-.94-.94-2.06-.94 2.06-2.06.94z\"/><path d=\"M17.41 7.96l-1.37-1.37c-.4-.4-.92-.59-1.43-.59-.52 0-1.04.2-1.43.59L10.3 9.45l-7.72 7.72c-.78.78-.78 2.05 0 2.83L4 21.41c.39.39.9.59 1.41.59.51 0 1.02-.2 1.41-.59l7.78-7.78 2.81-2.81c.8-.78.8-2.07 0-2.86zM5.41 20L4 18.59l7.72-7.72 1.47 1.35L5.41 20z\"/>\n",
              "  </svg>\n",
              "      </button>\n",
              "      \n",
              "  <style>\n",
              "    .colab-df-container {\n",
              "      display:flex;\n",
              "      flex-wrap:wrap;\n",
              "      gap: 12px;\n",
              "    }\n",
              "\n",
              "    .colab-df-convert {\n",
              "      background-color: #E8F0FE;\n",
              "      border: none;\n",
              "      border-radius: 50%;\n",
              "      cursor: pointer;\n",
              "      display: none;\n",
              "      fill: #1967D2;\n",
              "      height: 32px;\n",
              "      padding: 0 0 0 0;\n",
              "      width: 32px;\n",
              "    }\n",
              "\n",
              "    .colab-df-convert:hover {\n",
              "      background-color: #E2EBFA;\n",
              "      box-shadow: 0px 1px 2px rgba(60, 64, 67, 0.3), 0px 1px 3px 1px rgba(60, 64, 67, 0.15);\n",
              "      fill: #174EA6;\n",
              "    }\n",
              "\n",
              "    [theme=dark] .colab-df-convert {\n",
              "      background-color: #3B4455;\n",
              "      fill: #D2E3FC;\n",
              "    }\n",
              "\n",
              "    [theme=dark] .colab-df-convert:hover {\n",
              "      background-color: #434B5C;\n",
              "      box-shadow: 0px 1px 3px 1px rgba(0, 0, 0, 0.15);\n",
              "      filter: drop-shadow(0px 1px 2px rgba(0, 0, 0, 0.3));\n",
              "      fill: #FFFFFF;\n",
              "    }\n",
              "  </style>\n",
              "\n",
              "      <script>\n",
              "        const buttonEl =\n",
              "          document.querySelector('#df-1c3adc0e-9c8b-4c06-8c2f-ff35b1559bd9 button.colab-df-convert');\n",
              "        buttonEl.style.display =\n",
              "          google.colab.kernel.accessAllowed ? 'block' : 'none';\n",
              "\n",
              "        async function convertToInteractive(key) {\n",
              "          const element = document.querySelector('#df-1c3adc0e-9c8b-4c06-8c2f-ff35b1559bd9');\n",
              "          const dataTable =\n",
              "            await google.colab.kernel.invokeFunction('convertToInteractive',\n",
              "                                                     [key], {});\n",
              "          if (!dataTable) return;\n",
              "\n",
              "          const docLinkHtml = 'Like what you see? Visit the ' +\n",
              "            '<a target=\"_blank\" href=https://colab.research.google.com/notebooks/data_table.ipynb>data table notebook</a>'\n",
              "            + ' to learn more about interactive tables.';\n",
              "          element.innerHTML = '';\n",
              "          dataTable['output_type'] = 'display_data';\n",
              "          await google.colab.output.renderOutput(dataTable, element);\n",
              "          const docLink = document.createElement('div');\n",
              "          docLink.innerHTML = docLinkHtml;\n",
              "          element.appendChild(docLink);\n",
              "        }\n",
              "      </script>\n",
              "    </div>\n",
              "  </div>\n",
              "  "
            ]
          },
          "metadata": {},
          "execution_count": 7
        }
      ]
    },
    {
      "cell_type": "markdown",
      "source": [
        "## Data Preprocessing"
      ],
      "metadata": {
        "id": "rFa1_EA4dYvT"
      }
    },
    {
      "cell_type": "markdown",
      "source": [
        "Membuang kolom yang tidak perlu. Hanya menggunakan gpm saja di mana gpm = gold / minutes"
      ],
      "metadata": {
        "id": "BC4wartreF3J"
      }
    },
    {
      "cell_type": "code",
      "source": [
        "df_match.drop(columns=['gold', 'minutes'], inplace=True)\n",
        "df_match.head()"
      ],
      "metadata": {
        "colab": {
          "base_uri": "https://localhost:8080/",
          "height": 206
        },
        "id": "k6czeC1vLhwU",
        "outputId": "b6289267-33d5-4e32-ef68-d8f7657bcf71"
      },
      "execution_count": 8,
      "outputs": [
        {
          "output_type": "execute_result",
          "data": {
            "text/plain": [
              "   kill  death  assist   gpm  hero_damage  turret_damage  damage_taken  \\\n",
              "0   6.0    1.0     7.0   745         26.0            8.0          25.0   \n",
              "1   6.0    3.0     7.0   975         19.0           47.0          21.0   \n",
              "2   3.0    1.0    10.0   614          7.0            2.0          28.0   \n",
              "3   7.0    1.0     6.0   799         20.0           12.0          15.0   \n",
              "4   9.0    1.0     3.0  1079         28.0           30.0          11.0   \n",
              "\n",
              "   teamfight_part  win  score  \n",
              "0            42.0  1.0    8.9  \n",
              "1            42.0  1.0    8.5  \n",
              "2            42.0  1.0    8.4  \n",
              "3            42.0  1.0    8.6  \n",
              "4            39.0  1.0    9.3  "
            ],
            "text/html": [
              "\n",
              "  <div id=\"df-214b0119-8f53-467e-acb0-28285759381d\">\n",
              "    <div class=\"colab-df-container\">\n",
              "      <div>\n",
              "<style scoped>\n",
              "    .dataframe tbody tr th:only-of-type {\n",
              "        vertical-align: middle;\n",
              "    }\n",
              "\n",
              "    .dataframe tbody tr th {\n",
              "        vertical-align: top;\n",
              "    }\n",
              "\n",
              "    .dataframe thead th {\n",
              "        text-align: right;\n",
              "    }\n",
              "</style>\n",
              "<table border=\"1\" class=\"dataframe\">\n",
              "  <thead>\n",
              "    <tr style=\"text-align: right;\">\n",
              "      <th></th>\n",
              "      <th>kill</th>\n",
              "      <th>death</th>\n",
              "      <th>assist</th>\n",
              "      <th>gpm</th>\n",
              "      <th>hero_damage</th>\n",
              "      <th>turret_damage</th>\n",
              "      <th>damage_taken</th>\n",
              "      <th>teamfight_part</th>\n",
              "      <th>win</th>\n",
              "      <th>score</th>\n",
              "    </tr>\n",
              "  </thead>\n",
              "  <tbody>\n",
              "    <tr>\n",
              "      <th>0</th>\n",
              "      <td>6.0</td>\n",
              "      <td>1.0</td>\n",
              "      <td>7.0</td>\n",
              "      <td>745</td>\n",
              "      <td>26.0</td>\n",
              "      <td>8.0</td>\n",
              "      <td>25.0</td>\n",
              "      <td>42.0</td>\n",
              "      <td>1.0</td>\n",
              "      <td>8.9</td>\n",
              "    </tr>\n",
              "    <tr>\n",
              "      <th>1</th>\n",
              "      <td>6.0</td>\n",
              "      <td>3.0</td>\n",
              "      <td>7.0</td>\n",
              "      <td>975</td>\n",
              "      <td>19.0</td>\n",
              "      <td>47.0</td>\n",
              "      <td>21.0</td>\n",
              "      <td>42.0</td>\n",
              "      <td>1.0</td>\n",
              "      <td>8.5</td>\n",
              "    </tr>\n",
              "    <tr>\n",
              "      <th>2</th>\n",
              "      <td>3.0</td>\n",
              "      <td>1.0</td>\n",
              "      <td>10.0</td>\n",
              "      <td>614</td>\n",
              "      <td>7.0</td>\n",
              "      <td>2.0</td>\n",
              "      <td>28.0</td>\n",
              "      <td>42.0</td>\n",
              "      <td>1.0</td>\n",
              "      <td>8.4</td>\n",
              "    </tr>\n",
              "    <tr>\n",
              "      <th>3</th>\n",
              "      <td>7.0</td>\n",
              "      <td>1.0</td>\n",
              "      <td>6.0</td>\n",
              "      <td>799</td>\n",
              "      <td>20.0</td>\n",
              "      <td>12.0</td>\n",
              "      <td>15.0</td>\n",
              "      <td>42.0</td>\n",
              "      <td>1.0</td>\n",
              "      <td>8.6</td>\n",
              "    </tr>\n",
              "    <tr>\n",
              "      <th>4</th>\n",
              "      <td>9.0</td>\n",
              "      <td>1.0</td>\n",
              "      <td>3.0</td>\n",
              "      <td>1079</td>\n",
              "      <td>28.0</td>\n",
              "      <td>30.0</td>\n",
              "      <td>11.0</td>\n",
              "      <td>39.0</td>\n",
              "      <td>1.0</td>\n",
              "      <td>9.3</td>\n",
              "    </tr>\n",
              "  </tbody>\n",
              "</table>\n",
              "</div>\n",
              "      <button class=\"colab-df-convert\" onclick=\"convertToInteractive('df-214b0119-8f53-467e-acb0-28285759381d')\"\n",
              "              title=\"Convert this dataframe to an interactive table.\"\n",
              "              style=\"display:none;\">\n",
              "        \n",
              "  <svg xmlns=\"http://www.w3.org/2000/svg\" height=\"24px\"viewBox=\"0 0 24 24\"\n",
              "       width=\"24px\">\n",
              "    <path d=\"M0 0h24v24H0V0z\" fill=\"none\"/>\n",
              "    <path d=\"M18.56 5.44l.94 2.06.94-2.06 2.06-.94-2.06-.94-.94-2.06-.94 2.06-2.06.94zm-11 1L8.5 8.5l.94-2.06 2.06-.94-2.06-.94L8.5 2.5l-.94 2.06-2.06.94zm10 10l.94 2.06.94-2.06 2.06-.94-2.06-.94-.94-2.06-.94 2.06-2.06.94z\"/><path d=\"M17.41 7.96l-1.37-1.37c-.4-.4-.92-.59-1.43-.59-.52 0-1.04.2-1.43.59L10.3 9.45l-7.72 7.72c-.78.78-.78 2.05 0 2.83L4 21.41c.39.39.9.59 1.41.59.51 0 1.02-.2 1.41-.59l7.78-7.78 2.81-2.81c.8-.78.8-2.07 0-2.86zM5.41 20L4 18.59l7.72-7.72 1.47 1.35L5.41 20z\"/>\n",
              "  </svg>\n",
              "      </button>\n",
              "      \n",
              "  <style>\n",
              "    .colab-df-container {\n",
              "      display:flex;\n",
              "      flex-wrap:wrap;\n",
              "      gap: 12px;\n",
              "    }\n",
              "\n",
              "    .colab-df-convert {\n",
              "      background-color: #E8F0FE;\n",
              "      border: none;\n",
              "      border-radius: 50%;\n",
              "      cursor: pointer;\n",
              "      display: none;\n",
              "      fill: #1967D2;\n",
              "      height: 32px;\n",
              "      padding: 0 0 0 0;\n",
              "      width: 32px;\n",
              "    }\n",
              "\n",
              "    .colab-df-convert:hover {\n",
              "      background-color: #E2EBFA;\n",
              "      box-shadow: 0px 1px 2px rgba(60, 64, 67, 0.3), 0px 1px 3px 1px rgba(60, 64, 67, 0.15);\n",
              "      fill: #174EA6;\n",
              "    }\n",
              "\n",
              "    [theme=dark] .colab-df-convert {\n",
              "      background-color: #3B4455;\n",
              "      fill: #D2E3FC;\n",
              "    }\n",
              "\n",
              "    [theme=dark] .colab-df-convert:hover {\n",
              "      background-color: #434B5C;\n",
              "      box-shadow: 0px 1px 3px 1px rgba(0, 0, 0, 0.15);\n",
              "      filter: drop-shadow(0px 1px 2px rgba(0, 0, 0, 0.3));\n",
              "      fill: #FFFFFF;\n",
              "    }\n",
              "  </style>\n",
              "\n",
              "      <script>\n",
              "        const buttonEl =\n",
              "          document.querySelector('#df-214b0119-8f53-467e-acb0-28285759381d button.colab-df-convert');\n",
              "        buttonEl.style.display =\n",
              "          google.colab.kernel.accessAllowed ? 'block' : 'none';\n",
              "\n",
              "        async function convertToInteractive(key) {\n",
              "          const element = document.querySelector('#df-214b0119-8f53-467e-acb0-28285759381d');\n",
              "          const dataTable =\n",
              "            await google.colab.kernel.invokeFunction('convertToInteractive',\n",
              "                                                     [key], {});\n",
              "          if (!dataTable) return;\n",
              "\n",
              "          const docLinkHtml = 'Like what you see? Visit the ' +\n",
              "            '<a target=\"_blank\" href=https://colab.research.google.com/notebooks/data_table.ipynb>data table notebook</a>'\n",
              "            + ' to learn more about interactive tables.';\n",
              "          element.innerHTML = '';\n",
              "          dataTable['output_type'] = 'display_data';\n",
              "          await google.colab.output.renderOutput(dataTable, element);\n",
              "          const docLink = document.createElement('div');\n",
              "          docLink.innerHTML = docLinkHtml;\n",
              "          element.appendChild(docLink);\n",
              "        }\n",
              "      </script>\n",
              "    </div>\n",
              "  </div>\n",
              "  "
            ]
          },
          "metadata": {},
          "execution_count": 8
        }
      ]
    },
    {
      "cell_type": "markdown",
      "source": [
        "Melihat korelasi antar kolom"
      ],
      "metadata": {
        "id": "WSAWFNSSeLD6"
      }
    },
    {
      "cell_type": "code",
      "source": [
        "plt.figure(figsize=(8, 8))\n",
        "sns.heatmap(df_match.corr(), cmap='Blues', annot=True, fmt='.2f')"
      ],
      "metadata": {
        "colab": {
          "base_uri": "https://localhost:8080/",
          "height": 568
        },
        "id": "40u1u2UgQ_WZ",
        "outputId": "4f1e6c3c-4baa-475b-f526-77c989a02f55"
      },
      "execution_count": 9,
      "outputs": [
        {
          "output_type": "execute_result",
          "data": {
            "text/plain": [
              "<matplotlib.axes._subplots.AxesSubplot at 0x7fb43da288e0>"
            ]
          },
          "metadata": {},
          "execution_count": 9
        },
        {
          "output_type": "display_data",
          "data": {
            "text/plain": [
              "<Figure size 576x576 with 2 Axes>"
            ],
            "image/png": "[encoded data removed]"
          },
          "metadata": {}
        }
      ]
    },
    {
      "cell_type": "markdown",
      "source": [
        "Memilih fitur dengan nilai korelasi > 0.5 atau < -0.5 terhadap score"
      ],
      "metadata": {
        "id": "VGPWWTZPeNt-"
      }
    },
    {
      "cell_type": "code",
      "source": [
        "df_match = df_match[['kill', 'death', 'assist', 'gpm', 'teamfight_part', 'win', 'score']]"
      ],
      "metadata": {
        "id": "PwnlkUoZvP-I"
      },
      "execution_count": 10,
      "outputs": []
    },
    {
      "cell_type": "markdown",
      "source": [
        "## Modeling"
      ],
      "metadata": {
        "id": "cWmsAJaldkHf"
      }
    },
    {
      "cell_type": "markdown",
      "source": [
        "### Split train-test"
      ],
      "metadata": {
        "id": "-cdfAwWmeY11"
      }
    },
    {
      "cell_type": "code",
      "source": [
        "X = df_match.iloc[:,:-1]\n",
        "X.head()"
      ],
      "metadata": {
        "colab": {
          "base_uri": "https://localhost:8080/",
          "height": 206
        },
        "id": "bYwR8J1_NJw-",
        "outputId": "5e543b60-e561-4d32-fcba-e0696e2be9d2"
      },
      "execution_count": 11,
      "outputs": [
        {
          "output_type": "execute_result",
          "data": {
            "text/plain": [
              "   kill  death  assist   gpm  teamfight_part  win\n",
              "0   6.0    1.0     7.0   745            42.0  1.0\n",
              "1   6.0    3.0     7.0   975            42.0  1.0\n",
              "2   3.0    1.0    10.0   614            42.0  1.0\n",
              "3   7.0    1.0     6.0   799            42.0  1.0\n",
              "4   9.0    1.0     3.0  1079            39.0  1.0"
            ],
            "text/html": [
              "\n",
              "  <div id=\"df-a6b331bd-8e62-4439-91b2-d3ebfff8c6d2\">\n",
              "    <div class=\"colab-df-container\">\n",
              "      <div>\n",
              "<style scoped>\n",
              "    .dataframe tbody tr th:only-of-type {\n",
              "        vertical-align: middle;\n",
              "    }\n",
              "\n",
              "    .dataframe tbody tr th {\n",
              "        vertical-align: top;\n",
              "    }\n",
              "\n",
              "    .dataframe thead th {\n",
              "        text-align: right;\n",
              "    }\n",
              "</style>\n",
              "<table border=\"1\" class=\"dataframe\">\n",
              "  <thead>\n",
              "    <tr style=\"text-align: right;\">\n",
              "      <th></th>\n",
              "      <th>kill</th>\n",
              "      <th>death</th>\n",
              "      <th>assist</th>\n",
              "      <th>gpm</th>\n",
              "      <th>teamfight_part</th>\n",
              "      <th>win</th>\n",
              "    </tr>\n",
              "  </thead>\n",
              "  <tbody>\n",
              "    <tr>\n",
              "      <th>0</th>\n",
              "      <td>6.0</td>\n",
              "      <td>1.0</td>\n",
              "      <td>7.0</td>\n",
              "      <td>745</td>\n",
              "      <td>42.0</td>\n",
              "      <td>1.0</td>\n",
              "    </tr>\n",
              "    <tr>\n",
              "      <th>1</th>\n",
              "      <td>6.0</td>\n",
              "      <td>3.0</td>\n",
              "      <td>7.0</td>\n",
              "      <td>975</td>\n",
              "      <td>42.0</td>\n",
              "      <td>1.0</td>\n",
              "    </tr>\n",
              "    <tr>\n",
              "      <th>2</th>\n",
              "      <td>3.0</td>\n",
              "      <td>1.0</td>\n",
              "      <td>10.0</td>\n",
              "      <td>614</td>\n",
              "      <td>42.0</td>\n",
              "      <td>1.0</td>\n",
              "    </tr>\n",
              "    <tr>\n",
              "      <th>3</th>\n",
              "      <td>7.0</td>\n",
              "      <td>1.0</td>\n",
              "      <td>6.0</td>\n",
              "      <td>799</td>\n",
              "      <td>42.0</td>\n",
              "      <td>1.0</td>\n",
              "    </tr>\n",
              "    <tr>\n",
              "      <th>4</th>\n",
              "      <td>9.0</td>\n",
              "      <td>1.0</td>\n",
              "      <td>3.0</td>\n",
              "      <td>1079</td>\n",
              "      <td>39.0</td>\n",
              "      <td>1.0</td>\n",
              "    </tr>\n",
              "  </tbody>\n",
              "</table>\n",
              "</div>\n",
              "      <button class=\"colab-df-convert\" onclick=\"convertToInteractive('df-a6b331bd-8e62-4439-91b2-d3ebfff8c6d2')\"\n",
              "              title=\"Convert this dataframe to an interactive table.\"\n",
              "              style=\"display:none;\">\n",
              "        \n",
              "  <svg xmlns=\"http://www.w3.org/2000/svg\" height=\"24px\"viewBox=\"0 0 24 24\"\n",
              "       width=\"24px\">\n",
              "    <path d=\"M0 0h24v24H0V0z\" fill=\"none\"/>\n",
              "    <path d=\"M18.56 5.44l.94 2.06.94-2.06 2.06-.94-2.06-.94-.94-2.06-.94 2.06-2.06.94zm-11 1L8.5 8.5l.94-2.06 2.06-.94-2.06-.94L8.5 2.5l-.94 2.06-2.06.94zm10 10l.94 2.06.94-2.06 2.06-.94-2.06-.94-.94-2.06-.94 2.06-2.06.94z\"/><path d=\"M17.41 7.96l-1.37-1.37c-.4-.4-.92-.59-1.43-.59-.52 0-1.04.2-1.43.59L10.3 9.45l-7.72 7.72c-.78.78-.78 2.05 0 2.83L4 21.41c.39.39.9.59 1.41.59.51 0 1.02-.2 1.41-.59l7.78-7.78 2.81-2.81c.8-.78.8-2.07 0-2.86zM5.41 20L4 18.59l7.72-7.72 1.47 1.35L5.41 20z\"/>\n",
              "  </svg>\n",
              "      </button>\n",
              "      \n",
              "  <style>\n",
              "    .colab-df-container {\n",
              "      display:flex;\n",
              "      flex-wrap:wrap;\n",
              "      gap: 12px;\n",
              "    }\n",
              "\n",
              "    .colab-df-convert {\n",
              "      background-color: #E8F0FE;\n",
              "      border: none;\n",
              "      border-radius: 50%;\n",
              "      cursor: pointer;\n",
              "      display: none;\n",
              "      fill: #1967D2;\n",
              "      height: 32px;\n",
              "      padding: 0 0 0 0;\n",
              "      width: 32px;\n",
              "    }\n",
              "\n",
              "    .colab-df-convert:hover {\n",
              "      background-color: #E2EBFA;\n",
              "      box-shadow: 0px 1px 2px rgba(60, 64, 67, 0.3), 0px 1px 3px 1px rgba(60, 64, 67, 0.15);\n",
              "      fill: #174EA6;\n",
              "    }\n",
              "\n",
              "    [theme=dark] .colab-df-convert {\n",
              "      background-color: #3B4455;\n",
              "      fill: #D2E3FC;\n",
              "    }\n",
              "\n",
              "    [theme=dark] .colab-df-convert:hover {\n",
              "      background-color: #434B5C;\n",
              "      box-shadow: 0px 1px 3px 1px rgba(0, 0, 0, 0.15);\n",
              "      filter: drop-shadow(0px 1px 2px rgba(0, 0, 0, 0.3));\n",
              "      fill: #FFFFFF;\n",
              "    }\n",
              "  </style>\n",
              "\n",
              "      <script>\n",
              "        const buttonEl =\n",
              "          document.querySelector('#df-a6b331bd-8e62-4439-91b2-d3ebfff8c6d2 button.colab-df-convert');\n",
              "        buttonEl.style.display =\n",
              "          google.colab.kernel.accessAllowed ? 'block' : 'none';\n",
              "\n",
              "        async function convertToInteractive(key) {\n",
              "          const element = document.querySelector('#df-a6b331bd-8e62-4439-91b2-d3ebfff8c6d2');\n",
              "          const dataTable =\n",
              "            await google.colab.kernel.invokeFunction('convertToInteractive',\n",
              "                                                     [key], {});\n",
              "          if (!dataTable) return;\n",
              "\n",
              "          const docLinkHtml = 'Like what you see? Visit the ' +\n",
              "            '<a target=\"_blank\" href=https://colab.research.google.com/notebooks/data_table.ipynb>data table notebook</a>'\n",
              "            + ' to learn more about interactive tables.';\n",
              "          element.innerHTML = '';\n",
              "          dataTable['output_type'] = 'display_data';\n",
              "          await google.colab.output.renderOutput(dataTable, element);\n",
              "          const docLink = document.createElement('div');\n",
              "          docLink.innerHTML = docLinkHtml;\n",
              "          element.appendChild(docLink);\n",
              "        }\n",
              "      </script>\n",
              "    </div>\n",
              "  </div>\n",
              "  "
            ]
          },
          "metadata": {},
          "execution_count": 11
        }
      ]
    },
    {
      "cell_type": "code",
      "source": [
        "y = df_match.iloc[:,-1]\n",
        "y.head()"
      ],
      "metadata": {
        "colab": {
          "base_uri": "https://localhost:8080/"
        },
        "id": "9mzvdd6ZNOnl",
        "outputId": "9fcba018-cce3-472c-db65-027cd15fb5a2"
      },
      "execution_count": 12,
      "outputs": [
        {
          "output_type": "execute_result",
          "data": {
            "text/plain": [
              "0    8.9\n",
              "1    8.5\n",
              "2    8.4\n",
              "3    8.6\n",
              "4    9.3\n",
              "Name: score, dtype: float64"
            ]
          },
          "metadata": {},
          "execution_count": 12
        }
      ]
    },
    {
      "cell_type": "code",
      "source": [
        "X_train, X_test, y_train, y_test = train_test_split(X, y, train_size=0.8, random_state = 3)"
      ],
      "metadata": {
        "id": "cVdre6IZ22_4"
      },
      "execution_count": 13,
      "outputs": []
    },
    {
      "cell_type": "markdown",
      "source": [
        "### Model Regresi Linear"
      ],
      "metadata": {
        "id": "7BR5yPyledDx"
      }
    },
    {
      "cell_type": "code",
      "source": [
        "model_regresi = LinearRegression()"
      ],
      "metadata": {
        "id": "N9HDWNLsNv91"
      },
      "execution_count": 14,
      "outputs": []
    },
    {
      "cell_type": "code",
      "source": [
        "model_regresi.fit(X_train, y_train)"
      ],
      "metadata": {
        "colab": {
          "base_uri": "https://localhost:8080/"
        },
        "id": "RLl3jLpQOe1U",
        "outputId": "66681b93-f8da-4a7f-b7fc-5de22770fe3f"
      },
      "execution_count": 15,
      "outputs": [
        {
          "output_type": "execute_result",
          "data": {
            "text/plain": [
              "LinearRegression()"
            ]
          },
          "metadata": {},
          "execution_count": 15
        }
      ]
    },
    {
      "cell_type": "markdown",
      "source": [
        "Score R2"
      ],
      "metadata": {
        "id": "Hp5Mdk89eg9M"
      }
    },
    {
      "cell_type": "code",
      "source": [
        "model_regresi.score(X_train, y_train)"
      ],
      "metadata": {
        "colab": {
          "base_uri": "https://localhost:8080/"
        },
        "id": "XWVGvGFROiiH",
        "outputId": "d0d7fb98-0b4c-45e2-ed21-b24a543b17a5"
      },
      "execution_count": 16,
      "outputs": [
        {
          "output_type": "execute_result",
          "data": {
            "text/plain": [
              "0.9622221092207643"
            ]
          },
          "metadata": {},
          "execution_count": 16
        }
      ]
    },
    {
      "cell_type": "markdown",
      "source": [
        "Koefisien dari persamaan regresi"
      ],
      "metadata": {
        "id": "TEa6VH5Ceu90"
      }
    },
    {
      "cell_type": "code",
      "source": [
        "model_regresi.coef_"
      ],
      "metadata": {
        "colab": {
          "base_uri": "https://localhost:8080/"
        },
        "id": "iDZ_GZnbOvb0",
        "outputId": "e81cf4f2-e947-429e-c960-6523a7bfc421"
      },
      "execution_count": 17,
      "outputs": [
        {
          "output_type": "execute_result",
          "data": {
            "text/plain": [
              "array([ 0.27109702, -0.32408744,  0.20936271,  0.00331038,  0.02022654,\n",
              "       -0.05238146])"
            ]
          },
          "metadata": {},
          "execution_count": 17
        }
      ]
    },
    {
      "cell_type": "markdown",
      "source": [
        "Konstanta persamaan regresi"
      ],
      "metadata": {
        "id": "n-hOqr4TexEE"
      }
    },
    {
      "cell_type": "code",
      "source": [
        "model_regresi.intercept_"
      ],
      "metadata": {
        "colab": {
          "base_uri": "https://localhost:8080/"
        },
        "id": "NAv1TMqZPCDu",
        "outputId": "75d13e48-f47d-403b-8a88-a9d04cbc11d9"
      },
      "execution_count": 18,
      "outputs": [
        {
          "output_type": "execute_result",
          "data": {
            "text/plain": [
              "2.5837641270148257"
            ]
          },
          "metadata": {},
          "execution_count": 18
        }
      ]
    },
    {
      "cell_type": "markdown",
      "source": [
        "Persamaan regresi"
      ],
      "metadata": {
        "id": "I88UXLRYe7O2"
      }
    },
    {
      "cell_type": "code",
      "source": [
        "print(\"Persamaan Regresinya adalah = \" + str(np.around(model_regresi.intercept_, decimals=3)), end=\"\")\n",
        "for i in range(len(model_regresi.coef_)):\n",
        "  print(\" + \" + str(np.around(model_regresi.coef_[i], decimals=3)) + \"x\" + str(i+1), end=\"\")"
      ],
      "metadata": {
        "colab": {
          "base_uri": "https://localhost:8080/"
        },
        "id": "DIhfm47XVFfR",
        "outputId": "02ca5a4b-174f-4e00-f0f2-cd55add8a1d5"
      },
      "execution_count": 19,
      "outputs": [
        {
          "output_type": "stream",
          "name": "stdout",
          "text": [
            "Persamaan Regresinya adalah = 2.584 + 0.271x1 + -0.324x2 + 0.209x3 + 0.003x4 + 0.02x5 + -0.052x6"
          ]
        }
      ]
    },
    {
      "cell_type": "markdown",
      "source": [
        "## Evaluation"
      ],
      "metadata": {
        "id": "Yp1qRa7adr7H"
      }
    },
    {
      "cell_type": "markdown",
      "source": [
        "Memprediksi dengan X_test"
      ],
      "metadata": {
        "id": "QMYcAyXjfAue"
      }
    },
    {
      "cell_type": "code",
      "source": [
        "hasil_prediksi = model_regresi.predict(X_test)"
      ],
      "metadata": {
        "id": "tGcBy4_XPG5Q"
      },
      "execution_count": 20,
      "outputs": []
    },
    {
      "cell_type": "markdown",
      "source": [
        "Perbandingan aktual dan prediksi pada data test"
      ],
      "metadata": {
        "id": "f_LgWP_vfDSh"
      }
    },
    {
      "cell_type": "code",
      "source": [
        "perbandingan_prediksi = pd.DataFrame({\n",
        "    'aktual' : y_test,\n",
        "    'prediksi' : np.around(hasil_prediksi, decimals=1)\n",
        "})\n",
        "\n",
        "perbandingan_prediksi.sample(30)"
      ],
      "metadata": {
        "colab": {
          "base_uri": "https://localhost:8080/",
          "height": 990
        },
        "id": "_YnnSKHlYwmy",
        "outputId": "de56e7a5-0605-4a6e-a142-0b0a8da12f82"
      },
      "execution_count": 21,
      "outputs": [
        {
          "output_type": "execute_result",
          "data": {
            "text/plain": [
              "     aktual  prediksi\n",
              "37      5.8       5.7\n",
              "261     3.0       2.9\n",
              "61      7.4       7.5\n",
              "130     8.2       7.1\n",
              "98      4.9       5.2\n",
              "237     5.2       6.1\n",
              "123     8.7       8.7\n",
              "221     4.7       4.6\n",
              "155     5.6       5.8\n",
              "128     6.8       7.1\n",
              "272    10.3      10.0\n",
              "157     6.3       6.9\n",
              "307     9.3       9.9\n",
              "107     5.6       5.5\n",
              "142    11.5      11.5\n",
              "271     7.6       8.2\n",
              "211     9.6       8.0\n",
              "40      4.7       5.4\n",
              "355     7.9       8.3\n",
              "27      9.3       9.9\n",
              "127     9.0       8.2\n",
              "297     8.8       9.5\n",
              "194     7.5       8.1\n",
              "348    10.5      10.6\n",
              "328     8.2       8.0\n",
              "387     8.3       8.8\n",
              "83      6.6       6.8\n",
              "112     8.0       8.0\n",
              "88      9.9       9.3\n",
              "103    10.0      10.0"
            ],
            "text/html": [
              "\n",
              "  <div id=\"df-8e29b597-5def-4007-83c6-81bf4d84e3ae\">\n",
              "    <div class=\"colab-df-container\">\n",
              "      <div>\n",
              "<style scoped>\n",
              "    .dataframe tbody tr th:only-of-type {\n",
              "        vertical-align: middle;\n",
              "    }\n",
              "\n",
              "    .dataframe tbody tr th {\n",
              "        vertical-align: top;\n",
              "    }\n",
              "\n",
              "    .dataframe thead th {\n",
              "        text-align: right;\n",
              "    }\n",
              "</style>\n",
              "<table border=\"1\" class=\"dataframe\">\n",
              "  <thead>\n",
              "    <tr style=\"text-align: right;\">\n",
              "      <th></th>\n",
              "      <th>aktual</th>\n",
              "      <th>prediksi</th>\n",
              "    </tr>\n",
              "  </thead>\n",
              "  <tbody>\n",
              "    <tr>\n",
              "      <th>37</th>\n",
              "      <td>5.8</td>\n",
              "      <td>5.7</td>\n",
              "    </tr>\n",
              "    <tr>\n",
              "      <th>261</th>\n",
              "      <td>3.0</td>\n",
              "      <td>2.9</td>\n",
              "    </tr>\n",
              "    <tr>\n",
              "      <th>61</th>\n",
              "      <td>7.4</td>\n",
              "      <td>7.5</td>\n",
              "    </tr>\n",
              "    <tr>\n",
              "      <th>130</th>\n",
              "      <td>8.2</td>\n",
              "      <td>7.1</td>\n",
              "    </tr>\n",
              "    <tr>\n",
              "      <th>98</th>\n",
              "      <td>4.9</td>\n",
              "      <td>5.2</td>\n",
              "    </tr>\n",
              "    <tr>\n",
              "      <th>237</th>\n",
              "      <td>5.2</td>\n",
              "      <td>6.1</td>\n",
              "    </tr>\n",
              "    <tr>\n",
              "      <th>123</th>\n",
              "      <td>8.7</td>\n",
              "      <td>8.7</td>\n",
              "    </tr>\n",
              "    <tr>\n",
              "      <th>221</th>\n",
              "      <td>4.7</td>\n",
              "      <td>4.6</td>\n",
              "    </tr>\n",
              "    <tr>\n",
              "      <th>155</th>\n",
              "      <td>5.6</td>\n",
              "      <td>5.8</td>\n",
              "    </tr>\n",
              "    <tr>\n",
              "      <th>128</th>\n",
              "      <td>6.8</td>\n",
              "      <td>7.1</td>\n",
              "    </tr>\n",
              "    <tr>\n",
              "      <th>272</th>\n",
              "      <td>10.3</td>\n",
              "      <td>10.0</td>\n",
              "    </tr>\n",
              "    <tr>\n",
              "      <th>157</th>\n",
              "      <td>6.3</td>\n",
              "      <td>6.9</td>\n",
              "    </tr>\n",
              "    <tr>\n",
              "      <th>307</th>\n",
              "      <td>9.3</td>\n",
              "      <td>9.9</td>\n",
              "    </tr>\n",
              "    <tr>\n",
              "      <th>107</th>\n",
              "      <td>5.6</td>\n",
              "      <td>5.5</td>\n",
              "    </tr>\n",
              "    <tr>\n",
              "      <th>142</th>\n",
              "      <td>11.5</td>\n",
              "      <td>11.5</td>\n",
              "    </tr>\n",
              "    <tr>\n",
              "      <th>271</th>\n",
              "      <td>7.6</td>\n",
              "      <td>8.2</td>\n",
              "    </tr>\n",
              "    <tr>\n",
              "      <th>211</th>\n",
              "      <td>9.6</td>\n",
              "      <td>8.0</td>\n",
              "    </tr>\n",
              "    <tr>\n",
              "      <th>40</th>\n",
              "      <td>4.7</td>\n",
              "      <td>5.4</td>\n",
              "    </tr>\n",
              "    <tr>\n",
              "      <th>355</th>\n",
              "      <td>7.9</td>\n",
              "      <td>8.3</td>\n",
              "    </tr>\n",
              "    <tr>\n",
              "      <th>27</th>\n",
              "      <td>9.3</td>\n",
              "      <td>9.9</td>\n",
              "    </tr>\n",
              "    <tr>\n",
              "      <th>127</th>\n",
              "      <td>9.0</td>\n",
              "      <td>8.2</td>\n",
              "    </tr>\n",
              "    <tr>\n",
              "      <th>297</th>\n",
              "      <td>8.8</td>\n",
              "      <td>9.5</td>\n",
              "    </tr>\n",
              "    <tr>\n",
              "      <th>194</th>\n",
              "      <td>7.5</td>\n",
              "      <td>8.1</td>\n",
              "    </tr>\n",
              "    <tr>\n",
              "      <th>348</th>\n",
              "      <td>10.5</td>\n",
              "      <td>10.6</td>\n",
              "    </tr>\n",
              "    <tr>\n",
              "      <th>328</th>\n",
              "      <td>8.2</td>\n",
              "      <td>8.0</td>\n",
              "    </tr>\n",
              "    <tr>\n",
              "      <th>387</th>\n",
              "      <td>8.3</td>\n",
              "      <td>8.8</td>\n",
              "    </tr>\n",
              "    <tr>\n",
              "      <th>83</th>\n",
              "      <td>6.6</td>\n",
              "      <td>6.8</td>\n",
              "    </tr>\n",
              "    <tr>\n",
              "      <th>112</th>\n",
              "      <td>8.0</td>\n",
              "      <td>8.0</td>\n",
              "    </tr>\n",
              "    <tr>\n",
              "      <th>88</th>\n",
              "      <td>9.9</td>\n",
              "      <td>9.3</td>\n",
              "    </tr>\n",
              "    <tr>\n",
              "      <th>103</th>\n",
              "      <td>10.0</td>\n",
              "      <td>10.0</td>\n",
              "    </tr>\n",
              "  </tbody>\n",
              "</table>\n",
              "</div>\n",
              "      <button class=\"colab-df-convert\" onclick=\"convertToInteractive('df-8e29b597-5def-4007-83c6-81bf4d84e3ae')\"\n",
              "              title=\"Convert this dataframe to an interactive table.\"\n",
              "              style=\"display:none;\">\n",
              "        \n",
              "  <svg xmlns=\"http://www.w3.org/2000/svg\" height=\"24px\"viewBox=\"0 0 24 24\"\n",
              "       width=\"24px\">\n",
              "    <path d=\"M0 0h24v24H0V0z\" fill=\"none\"/>\n",
              "    <path d=\"M18.56 5.44l.94 2.06.94-2.06 2.06-.94-2.06-.94-.94-2.06-.94 2.06-2.06.94zm-11 1L8.5 8.5l.94-2.06 2.06-.94-2.06-.94L8.5 2.5l-.94 2.06-2.06.94zm10 10l.94 2.06.94-2.06 2.06-.94-2.06-.94-.94-2.06-.94 2.06-2.06.94z\"/><path d=\"M17.41 7.96l-1.37-1.37c-.4-.4-.92-.59-1.43-.59-.52 0-1.04.2-1.43.59L10.3 9.45l-7.72 7.72c-.78.78-.78 2.05 0 2.83L4 21.41c.39.39.9.59 1.41.59.51 0 1.02-.2 1.41-.59l7.78-7.78 2.81-2.81c.8-.78.8-2.07 0-2.86zM5.41 20L4 18.59l7.72-7.72 1.47 1.35L5.41 20z\"/>\n",
              "  </svg>\n",
              "      </button>\n",
              "      \n",
              "  <style>\n",
              "    .colab-df-container {\n",
              "      display:flex;\n",
              "      flex-wrap:wrap;\n",
              "      gap: 12px;\n",
              "    }\n",
              "\n",
              "    .colab-df-convert {\n",
              "      background-color: #E8F0FE;\n",
              "      border: none;\n",
              "      border-radius: 50%;\n",
              "      cursor: pointer;\n",
              "      display: none;\n",
              "      fill: #1967D2;\n",
              "      height: 32px;\n",
              "      padding: 0 0 0 0;\n",
              "      width: 32px;\n",
              "    }\n",
              "\n",
              "    .colab-df-convert:hover {\n",
              "      background-color: #E2EBFA;\n",
              "      box-shadow: 0px 1px 2px rgba(60, 64, 67, 0.3), 0px 1px 3px 1px rgba(60, 64, 67, 0.15);\n",
              "      fill: #174EA6;\n",
              "    }\n",
              "\n",
              "    [theme=dark] .colab-df-convert {\n",
              "      background-color: #3B4455;\n",
              "      fill: #D2E3FC;\n",
              "    }\n",
              "\n",
              "    [theme=dark] .colab-df-convert:hover {\n",
              "      background-color: #434B5C;\n",
              "      box-shadow: 0px 1px 3px 1px rgba(0, 0, 0, 0.15);\n",
              "      filter: drop-shadow(0px 1px 2px rgba(0, 0, 0, 0.3));\n",
              "      fill: #FFFFFF;\n",
              "    }\n",
              "  </style>\n",
              "\n",
              "      <script>\n",
              "        const buttonEl =\n",
              "          document.querySelector('#df-8e29b597-5def-4007-83c6-81bf4d84e3ae button.colab-df-convert');\n",
              "        buttonEl.style.display =\n",
              "          google.colab.kernel.accessAllowed ? 'block' : 'none';\n",
              "\n",
              "        async function convertToInteractive(key) {\n",
              "          const element = document.querySelector('#df-8e29b597-5def-4007-83c6-81bf4d84e3ae');\n",
              "          const dataTable =\n",
              "            await google.colab.kernel.invokeFunction('convertToInteractive',\n",
              "                                                     [key], {});\n",
              "          if (!dataTable) return;\n",
              "\n",
              "          const docLinkHtml = 'Like what you see? Visit the ' +\n",
              "            '<a target=\"_blank\" href=https://colab.research.google.com/notebooks/data_table.ipynb>data table notebook</a>'\n",
              "            + ' to learn more about interactive tables.';\n",
              "          element.innerHTML = '';\n",
              "          dataTable['output_type'] = 'display_data';\n",
              "          await google.colab.output.renderOutput(dataTable, element);\n",
              "          const docLink = document.createElement('div');\n",
              "          docLink.innerHTML = docLinkHtml;\n",
              "          element.appendChild(docLink);\n",
              "        }\n",
              "      </script>\n",
              "    </div>\n",
              "  </div>\n",
              "  "
            ]
          },
          "metadata": {},
          "execution_count": 21
        }
      ]
    },
    {
      "cell_type": "markdown",
      "source": [
        "Perbandingan Nilai Aktual dan Prediksi (Visualisasi)"
      ],
      "metadata": {
        "id": "WP336u_yxx8h"
      }
    },
    {
      "cell_type": "code",
      "source": [
        "plt.plot(perbandingan_prediksi.sort_values(by = ['aktual']).reset_index(drop = True),\n",
        "         linewidth = 3,\n",
        "         marker = 'o'\n",
        "         )\n",
        "plt.title('Perbandingan Prediksi dengan Nilai Aktual (Data Diurutkan dari Terkecil)')\n",
        "plt.xlabel('Data ke-N')\n",
        "plt.ylabel('Nilai')\n",
        "plt.legend(perbandingan_prediksi.columns, fontsize=16)\n",
        "plt.show()"
      ],
      "metadata": {
        "colab": {
          "base_uri": "https://localhost:8080/",
          "height": 517
        },
        "id": "mDviapl-kPJH",
        "outputId": "f00e6f06-cbf5-46a8-bc28-d8db3cfe5ebd"
      },
      "execution_count": 22,
      "outputs": [
        {
          "output_type": "display_data",
          "data": {
            "text/plain": [
              "<Figure size 1080x576 with 1 Axes>"
            ],
            "image/png": "[encoded data removed]"
          },
          "metadata": {}
        }
      ]
    },
    {
      "cell_type": "code",
      "source": [
        "prediksi_train = model_regresi.predict(X_train)"
      ],
      "metadata": {
        "id": "aL_o2J_G4N3g"
      },
      "execution_count": 23,
      "outputs": []
    },
    {
      "cell_type": "markdown",
      "source": [
        "Evaluasi pada Data Train"
      ],
      "metadata": {
        "id": "llDXfHDUfI2d"
      }
    },
    {
      "cell_type": "code",
      "source": [
        "nilai_r2_train = r2_score(y_train, prediksi_train)\n",
        "nilai_rmse_train = mean_squared_error(y_train, prediksi_train, squared=False)\n",
        "nilai_mae_train = mean_absolute_error(y_train, prediksi_train)\n",
        "print(\"Evaluasi pada Data Train\")\n",
        "print(\"Nilai R2 = \", nilai_r2_train)\n",
        "print(\"Nilai RMSE = \", nilai_rmse_train)\n",
        "print(\"Nilai MAE = \", nilai_mae_train)"
      ],
      "metadata": {
        "colab": {
          "base_uri": "https://localhost:8080/"
        },
        "id": "K_7sp3hx4AfB",
        "outputId": "4005c2dc-3fb1-44d4-876e-f4f6faba9abf"
      },
      "execution_count": 24,
      "outputs": [
        {
          "output_type": "stream",
          "name": "stdout",
          "text": [
            "Evaluasi pada Data Train\n",
            "Nilai R2 =  0.9622221092207643\n",
            "Nilai RMSE =  0.42531539045535854\n",
            "Nilai MAE =  0.3404617813229758\n"
          ]
        }
      ]
    },
    {
      "cell_type": "markdown",
      "source": [
        "Evaluasi pada Data Test"
      ],
      "metadata": {
        "id": "2rBRKKHofLNj"
      }
    },
    {
      "cell_type": "code",
      "source": [
        "nilai_r2_test = r2_score(y_test, hasil_prediksi)\n",
        "nilai_rmse_test = mean_squared_error(y_test, hasil_prediksi, squared=False)\n",
        "nilai_mae_test = mean_absolute_error(y_test, hasil_prediksi)\n",
        "print(\"Evaluasi pada Data Test\")\n",
        "print(\"Nilai R2 = \", nilai_r2_test)\n",
        "print(\"Nilai RMSE = \", nilai_rmse_test)\n",
        "print(\"Nilai MAE = \", nilai_mae_test)"
      ],
      "metadata": {
        "colab": {
          "base_uri": "https://localhost:8080/"
        },
        "id": "78Xu8cE0glK0",
        "outputId": "aa02cd6e-2b25-42fd-db4c-8877f0a5a45a"
      },
      "execution_count": 25,
      "outputs": [
        {
          "output_type": "stream",
          "name": "stdout",
          "text": [
            "Evaluasi pada Data Test\n",
            "Nilai R2 =  0.9553776210403336\n",
            "Nilai RMSE =  0.4556225749291867\n",
            "Nilai MAE =  0.3560316463908027\n"
          ]
        }
      ]
    }
  ]
}